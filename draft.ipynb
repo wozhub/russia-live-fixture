{
 "cells": [
  {
   "cell_type": "code",
   "execution_count": 1,
   "metadata": {},
   "outputs": [],
   "source": [
    "from selenium import webdriver\n",
    "from time import sleep\n",
    "from datetime import datetime, timedelta\n",
    "import pytz\n",
    "\n",
    "tz_arg = pytz.timezone(\"America/Argentina/Buenos_Aires\")\n",
    "tz_rus = pytz.timezone(\"Europe/Volgograd\")"
   ]
  },
  {
   "cell_type": "code",
   "execution_count": 2,
   "metadata": {},
   "outputs": [],
   "source": [
    "d = webdriver.Chrome()\n",
    "sleep(2)\n",
    "d.maximize_window()\n",
    "d.get('https://www.fifa.com/worldcup/matches/')"
   ]
  },
  {
   "cell_type": "code",
   "execution_count": 16,
   "metadata": {},
   "outputs": [],
   "source": [
    "class Partido:\n",
    "    def __init__(self, html):\n",
    "        \n",
    "        self.link = html.get_attribute('href')\n",
    "        \n",
    "        fecha_aux = html.find_element_by_class_name(\"fi-mu__info__datetime\").text\n",
    "        fecha_aux = tz_rus.localize(datetime.strptime(fecha_aux, \"%d %b %Y - %H:%M Local time\"))\n",
    "        self.fecha = fecha_aux.astimezone(tz_arg)\n",
    "        \n",
    "        self.grupo = html.find_element_by_class_name(\"fi__info__group\").text\n",
    "        self.equipos = [x.text for x in html.find_elements_by_class_name(\"fi-t__nText \")]\n",
    "        \n",
    "        \n",
    "        try:\n",
    "            self.marcador = [int(x) for x in html.find_element_by_class_name(\"fi-s__scoreText\").text.split('-')]\n",
    "            self.pendiente = False\n",
    "        except:\n",
    "            self.pendiente = True\n",
    "        \n",
    "    def __repr__(self):\n",
    "        if self.pendiente:\n",
    "            return \"%s [%s] %s - %s\" % (self.fecha, self.grupo,\n",
    "                                          self.equipos[0], self.equipos[1])\n",
    "        else:\n",
    "            return \"%s [%s] %s %d - %s %d\" % (self.fecha, self.grupo,\n",
    "                                          self.equipos[0], self.marcador[0],\n",
    "                                          self.equipos[1], self.marcador[1])"
   ]
  },
  {
   "cell_type": "code",
   "execution_count": 17,
   "metadata": {},
   "outputs": [
    {
     "name": "stdout",
     "output_type": "stream",
     "text": [
      "2018-06-14 12:00:00-03:00 [Group A] Russia 5 - Saudi Arabia 0\n",
      "2018-06-15 11:00:00-03:00 [Group A] Egypt 0 - Uruguay 1\n",
      "2018-06-15 12:00:00-03:00 [Group B] Morocco 0 - IR Iran 1\n",
      "2018-06-15 15:00:00-03:00 [Group B] Portugal 1 - Spain 0\n"
     ]
    }
   ],
   "source": [
    "fixture = {}\n",
    "\n",
    "for link in d.find_elements_by_class_name('fi-mu__link'):\n",
    "    partido = Partido(link)\n",
    "       \n",
    "    # Compruebo que el partido esté terminado o en marcha\n",
    "    if partido.pendiente:\n",
    "        continue\n",
    "        \n",
    "    print(partido)\n",
    "   \n",
    "    if not partido.grupo in fixture:\n",
    "        fixture[partido.grupo] = []\n",
    "        \n",
    "    fixture[partido.grupo].append(partido)"
   ]
  },
  {
   "cell_type": "code",
   "execution_count": 21,
   "metadata": {},
   "outputs": [],
   "source": [
    "# Busco los goles\n",
    "for grupo in fixture.keys():\n",
    "    for partido in fixture[grupo]:\n",
    "        d.get(partido.link)\n",
    "        break\n",
    "    break"
   ]
  },
  {
   "cell_type": "code",
   "execution_count": null,
   "metadata": {},
   "outputs": [],
   "source": [
    "# Terminados\n",
    "for html_partido in d.find_elements_by_class_name('result'):\n",
    "    partido = Partido(html_partido)\n",
    "    print(partido)\n",
    "    \n",
    "# Ongoing\n",
    "for html_partido in d.find_elements_by_class_name('live'):\n",
    "    partido = Partido(html_partido)\n",
    "    print(partido)"
   ]
  },
  {
   "cell_type": "code",
   "execution_count": null,
   "metadata": {},
   "outputs": [],
   "source": []
  }
 ],
 "metadata": {
  "kernelspec": {
   "display_name": "Python 3",
   "language": "python",
   "name": "python3"
  },
  "language_info": {
   "codemirror_mode": {
    "name": "ipython",
    "version": 3
   },
   "file_extension": ".py",
   "mimetype": "text/x-python",
   "name": "python",
   "nbconvert_exporter": "python",
   "pygments_lexer": "ipython3",
   "version": "3.5.3"
  }
 },
 "nbformat": 4,
 "nbformat_minor": 2
}
