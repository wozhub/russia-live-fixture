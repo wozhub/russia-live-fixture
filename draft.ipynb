{
 "cells": [
  {
   "cell_type": "code",
   "execution_count": 1,
   "metadata": {},
   "outputs": [],
   "source": [
    "from selenium import webdriver\n",
    "from time import sleep\n",
    "\n",
    "from datetime import datetime, timedelta\n",
    "from geopy import geocoders\n",
    "from tzwhere import tzwhere\n",
    "import pytz\n",
    "\n",
    "tz = tzwhere.tzwhere()\n",
    "\n",
    "tz_arg = pytz.timezone(\"America/Argentina/Buenos_Aires\")\n",
    "# tz_rus = pytz.timezone(\"Europe/Volgograd\")\n",
    "tz_rus = {\n",
    "    'Moscow': 'Europe/Moscow',\n",
    "    'Ekaterinburg': 'Asia/Yekaterinburg',\n",
    "    'St. Petersburg': 'Europe/Moscow',\n",
    "    'Sochi': 'Europe/Moscow',\n",
    "    'Kazan': 'Europe/Moscow',\n",
    "    'Saransk': 'Europe/Moscow',\n",
    "    'Kaliningrad': 'Europe/Kaliningrad',\n",
    "    'Samara': 'Europe/Samara',\n",
    "    'Rostov-On-Don': 'Europe/Moscow',\n",
    "    'Nizhny Novgorod': 'Europe/Moscow',\n",
    "    'Volgograd': 'Europe/Volgograd' }\n",
    "\n",
    "geocoder = geocoders.GoogleV3()  # Para buscar si es que me falta un timezone"
   ]
  },
  {
   "cell_type": "code",
   "execution_count": 2,
   "metadata": {},
   "outputs": [],
   "source": [
    "d = webdriver.Chrome()\n",
    "sleep(2)\n",
    "d.maximize_window()"
   ]
  },
  {
   "cell_type": "code",
   "execution_count": 8,
   "metadata": {},
   "outputs": [],
   "source": [
    "class Partido:\n",
    "    def __init__(self, html):\n",
    "        \n",
    "        self.link = html.get_attribute('href')\n",
    "        self.pid = int(self.link.split('/')[-2:-1][0])\n",
    "        \n",
    "        self.grupo = html.find_element_by_class_name(\"fi__info__group\").text\n",
    "        self.equipos = [x.text for x in html.find_elements_by_class_name(\"fi-t__nText \")]\n",
    "        self.ciudad = html.find_element_by_class_name(\"fi__info__venue\").text\n",
    "        \n",
    "        # Paso la ciudad a timezone\n",
    "        if not self.ciudad in tz_rus:\n",
    "            sleep(2)  # Para no saturar la API\n",
    "            place, (lat, lng) = geocoder.geocode(self.ciudad)\n",
    "            tz_rus[self.ciudad] = tz.tzNameAt(lat, lng)\n",
    "            \n",
    "        self.timezone = pytz.timezone(tz_rus[self.ciudad])\n",
    "        # print(self.ciudad, self.timezone)\n",
    "        \n",
    "        fecha_aux = html.find_element_by_class_name(\"fi-mu__info__datetime\").text\n",
    "        self.fecha_local = self.timezone.localize(datetime.strptime(fecha_aux, \"%d %b %Y - %H:%M Local time\"))\n",
    "        self.fecha = self.fecha_local.astimezone(tz_arg)\n",
    "        # print(self.fecha_local, self.fecha)\n",
    "        \n",
    "        # No dependo de que actualicen fi-s__scoreText\n",
    "        if self.fecha + timedelta(minutes=90) <= tz_arg.localize(datetime.now()):\n",
    "            self.pendiente = False\n",
    "            try:\n",
    "                self.marcador = [int(x) for x in html.find_element_by_class_name(\"fi-s__scoreText\").text.split('-')]\n",
    "            except:\n",
    "                self.marcador = [ -1, -1 ]\n",
    "        else:\n",
    "            self.pendiente = True\n",
    "            \n",
    "    def actualizarGoles(self):\n",
    "        d.get(self.link)\n",
    "        sleep(2)\n",
    "        \n",
    "        self.goles = { self.equipos[0]: [], self.equipos[1]: [] }\n",
    "        for lista in d.find_elements_by_class_name(\"fi-mh__scorers__home\"):\n",
    "            for html in lista.find_elements_by_class_name(\"fi-mh__scorer\"):\n",
    "                gol = Gol(html, self.pid)\n",
    "                self.goles[self.equipos[0]].append(gol)\n",
    "                contarGoles(gol)  # De paso lo cuento para el torneo\n",
    "        for lista in d.find_elements_by_class_name(\"fi-mh__scorers__away\"):\n",
    "            for html in lista.find_elements_by_class_name(\"fi-mh__scorer\"):\n",
    "                gol = Gol(html, self.pid)\n",
    "                self.goles[self.equipos[1]].append(gol)\n",
    "                contarGoles(gol)  # De paso lo cuento para el torneo\n",
    "    \n",
    "    def __repr__(self):\n",
    "        if self.pendiente:\n",
    "            return \"%s [%s] %s - %s\" % (self.fecha, self.grupo,\n",
    "                                          self.equipos[0], self.equipos[1])\n",
    "        else:\n",
    "            return \"%s [%s] %s %d - %s %d\" % (self.fecha, self.grupo,\n",
    "                                          self.equipos[0], self.marcador[0],\n",
    "                                          self.equipos[1], self.marcador[1])"
   ]
  },
  {
   "cell_type": "code",
   "execution_count": 4,
   "metadata": {},
   "outputs": [],
   "source": [
    "class Gol:\n",
    "    def __init__(self, html, pid):\n",
    "        self.pid = pid\n",
    "        self.jid = int(html.find_element_by_tag_name('a').get_attribute('href').split('/')[-1])\n",
    "        self.jugador = html.find_element_by_class_name(\"fi-p__n\").text\n",
    "        \n",
    "        self.minuto = html.find_element_by_class_name(\"fi-mh__scorer__minute\").text\n",
    "        # self.minuto = int(self.minuto[:-1])  # Que onda 90'+1\n",
    "        \n",
    "        self.etiqueta = html.find_element_by_class_name(\"fi-mh__scorer__label\").text\n",
    "        \n",
    "    def __repr__(self):\n",
    "        if self.etiqueta:\n",
    "            return \"%s %s (%s)\" % (self.jugador, self.minuto, self.etiqueta)\n",
    "        else:\n",
    "            return \"%s %s\" % (self.jugador, self.minuto)"
   ]
  },
  {
   "cell_type": "code",
   "execution_count": 5,
   "metadata": {},
   "outputs": [],
   "source": [
    "goles_torneo = {}\n",
    "def contarGoles(g):\n",
    "    if not g.jugador in goles_torneo:\n",
    "            goles_torneo[g.jugador] = []\n",
    "    goles_torneo[g.jugador].append(g)"
   ]
  },
  {
   "cell_type": "code",
   "execution_count": 9,
   "metadata": {},
   "outputs": [
    {
     "name": "stdout",
     "output_type": "stream",
     "text": [
      "2018-06-14 12:00:00-03:00 [Group A] Russia 5 - Saudi Arabia 0\n",
      "2018-06-15 09:00:00-03:00 [Group A] Egypt 0 - Uruguay 1\n",
      "2018-06-15 12:00:00-03:00 [Group B] Morocco 0 - IR Iran 1\n",
      "2018-06-15 15:00:00-03:00 [Group B] Portugal -1 - Spain -1\n"
     ]
    }
   ],
   "source": [
    "d.get('https://www.fifa.com/worldcup/matches/')\n",
    "fixture = {}\n",
    "\n",
    "for link in d.find_elements_by_class_name('fi-mu__link'):\n",
    "    partido = Partido(link)\n",
    "       \n",
    "    # Compruebo que el partido esté terminado o en marcha\n",
    "    if partido.pendiente:\n",
    "        continue\n",
    "        \n",
    "    print(partido)\n",
    "    \n",
    "    \n",
    "    if not partido.grupo in fixture:\n",
    "        fixture[partido.grupo] = []\n",
    "        \n",
    "    fixture[partido.grupo].append(partido)"
   ]
  },
  {
   "cell_type": "code",
   "execution_count": 10,
   "metadata": {},
   "outputs": [
    {
     "ename": "TypeError",
     "evalue": "not all arguments converted during string formatting",
     "output_type": "error",
     "traceback": [
      "\u001b[0;31m---------------------------------------------------------------------------\u001b[0m",
      "\u001b[0;31mTypeError\u001b[0m                                 Traceback (most recent call last)",
      "\u001b[0;32m<ipython-input-10-c49fc7e06a9f>\u001b[0m in \u001b[0;36m<module>\u001b[0;34m()\u001b[0m\n\u001b[1;32m      3\u001b[0m     \u001b[0;32mfor\u001b[0m \u001b[0mpartido\u001b[0m \u001b[0;32min\u001b[0m \u001b[0mfixture\u001b[0m\u001b[0;34m[\u001b[0m\u001b[0mgrupo\u001b[0m\u001b[0;34m]\u001b[0m\u001b[0;34m:\u001b[0m\u001b[0;34m\u001b[0m\u001b[0m\n\u001b[1;32m      4\u001b[0m         \u001b[0mpartido\u001b[0m\u001b[0;34m.\u001b[0m\u001b[0mactualizarGoles\u001b[0m\u001b[0;34m(\u001b[0m\u001b[0;34m)\u001b[0m\u001b[0;34m\u001b[0m\u001b[0m\n\u001b[0;32m----> 5\u001b[0;31m         \u001b[0mprint\u001b[0m\u001b[0;34m(\u001b[0m\u001b[0mpartido\u001b[0m\u001b[0;34m.\u001b[0m\u001b[0mgoles\u001b[0m\u001b[0;34m)\u001b[0m\u001b[0;34m\u001b[0m\u001b[0m\n\u001b[0m",
      "\u001b[0;32m<ipython-input-4-a2aa23d3815f>\u001b[0m in \u001b[0;36m__repr__\u001b[0;34m(self)\u001b[0m\n\u001b[1;32m     13\u001b[0m             \u001b[0;32mreturn\u001b[0m \u001b[0;34m\"%s %s (%s)\"\u001b[0m \u001b[0;34m%\u001b[0m \u001b[0;34m(\u001b[0m\u001b[0mself\u001b[0m\u001b[0;34m.\u001b[0m\u001b[0mjugador\u001b[0m\u001b[0;34m,\u001b[0m \u001b[0mself\u001b[0m\u001b[0;34m.\u001b[0m\u001b[0mjid\u001b[0m\u001b[0;34m,\u001b[0m \u001b[0mself\u001b[0m\u001b[0;34m.\u001b[0m\u001b[0mminuto\u001b[0m\u001b[0;34m,\u001b[0m \u001b[0mself\u001b[0m\u001b[0;34m.\u001b[0m\u001b[0metiqueta\u001b[0m\u001b[0;34m)\u001b[0m\u001b[0;34m\u001b[0m\u001b[0m\n\u001b[1;32m     14\u001b[0m         \u001b[0;32melse\u001b[0m\u001b[0;34m:\u001b[0m\u001b[0;34m\u001b[0m\u001b[0m\n\u001b[0;32m---> 15\u001b[0;31m             \u001b[0;32mreturn\u001b[0m \u001b[0;34m\"%s %s\"\u001b[0m \u001b[0;34m%\u001b[0m \u001b[0;34m(\u001b[0m\u001b[0mself\u001b[0m\u001b[0;34m.\u001b[0m\u001b[0mjugador\u001b[0m\u001b[0;34m,\u001b[0m \u001b[0mself\u001b[0m\u001b[0;34m.\u001b[0m\u001b[0mjid\u001b[0m\u001b[0;34m,\u001b[0m \u001b[0mself\u001b[0m\u001b[0;34m.\u001b[0m\u001b[0mminuto\u001b[0m\u001b[0;34m)\u001b[0m\u001b[0;34m\u001b[0m\u001b[0m\n\u001b[0m",
      "\u001b[0;31mTypeError\u001b[0m: not all arguments converted during string formatting"
     ]
    }
   ],
   "source": [
    "# Busco los goles\n",
    "for grupo in fixture.keys():\n",
    "    for partido in fixture[grupo]:\n",
    "        partido.actualizarGoles()\n",
    "        print(partido.goles)"
   ]
  },
  {
   "cell_type": "code",
   "execution_count": null,
   "metadata": {},
   "outputs": [],
   "source": []
  },
  {
   "cell_type": "code",
   "execution_count": null,
   "metadata": {},
   "outputs": [],
   "source": [
    "goles_torneo"
   ]
  },
  {
   "cell_type": "code",
   "execution_count": null,
   "metadata": {},
   "outputs": [],
   "source": [
    "# Terminados\n",
    "for html_partido in d.find_elements_by_class_name('result'):\n",
    "    partido = Partido(html_partido)\n",
    "    print(partido)\n",
    "    \n",
    "# Ongoing\n",
    "for html_partido in d.find_elements_by_class_name('live'):\n",
    "    partido = Partido(html_partido)\n",
    "    print(partido)"
   ]
  }
 ],
 "metadata": {
  "kernelspec": {
   "display_name": "Python 3",
   "language": "python",
   "name": "python3"
  },
  "language_info": {
   "codemirror_mode": {
    "name": "ipython",
    "version": 3
   },
   "file_extension": ".py",
   "mimetype": "text/x-python",
   "name": "python",
   "nbconvert_exporter": "python",
   "pygments_lexer": "ipython3",
   "version": "3.6.5"
  }
 },
 "nbformat": 4,
 "nbformat_minor": 2
}
