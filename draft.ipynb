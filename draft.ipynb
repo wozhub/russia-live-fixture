{
 "cells": [
  {
   "cell_type": "code",
   "execution_count": 7,
   "metadata": {},
   "outputs": [
    {
     "ename": "APIError",
     "evalue": "{\n \"error\": {\n  \"errors\": [\n   {\n    \"domain\": \"global\",\n    \"reason\": \"insufficientPermissions\",\n    \"message\": \"Insufficient Permission\"\n   }\n  ],\n  \"code\": 403,\n  \"message\": \"Insufficient Permission\"\n }\n}\n",
     "output_type": "error",
     "traceback": [
      "\u001b[0;31m---------------------------------------------------------------------------\u001b[0m",
      "\u001b[0;31mAPIError\u001b[0m                                  Traceback (most recent call last)",
      "\u001b[0;32m<ipython-input-7-7d33d42497ac>\u001b[0m in \u001b[0;36m<module>\u001b[0;34m()\u001b[0m\n\u001b[1;32m     11\u001b[0m \u001b[0;31m# Find a workbook by name and open the first sheet\u001b[0m\u001b[0;34m\u001b[0m\u001b[0;34m\u001b[0m\u001b[0m\n\u001b[1;32m     12\u001b[0m \u001b[0;31m# Make sure you use the right name here.\u001b[0m\u001b[0;34m\u001b[0m\u001b[0;34m\u001b[0m\u001b[0m\n\u001b[0;32m---> 13\u001b[0;31m \u001b[0msheet\u001b[0m \u001b[0;34m=\u001b[0m \u001b[0mclient\u001b[0m\u001b[0;34m.\u001b[0m\u001b[0mopen\u001b[0m\u001b[0;34m(\u001b[0m\u001b[0;34m\"Prode AA Rusia 2018\"\u001b[0m\u001b[0;34m)\u001b[0m\u001b[0;34m.\u001b[0m\u001b[0msheet1\u001b[0m\u001b[0;34m\u001b[0m\u001b[0m\n\u001b[0m\u001b[1;32m     14\u001b[0m \u001b[0;34m\u001b[0m\u001b[0m\n\u001b[1;32m     15\u001b[0m \u001b[0;31m# Extract and print all of the values\u001b[0m\u001b[0;34m\u001b[0m\u001b[0;34m\u001b[0m\u001b[0m\n",
      "\u001b[0;32m~/git/hobby/russia-live-fixture/venv/lib/python3.6/site-packages/gspread/client.py\u001b[0m in \u001b[0;36mopen\u001b[0;34m(self, title)\u001b[0m\n\u001b[1;32m    120\u001b[0m             properties = finditem(\n\u001b[1;32m    121\u001b[0m                 \u001b[0;32mlambda\u001b[0m \u001b[0mx\u001b[0m\u001b[0;34m:\u001b[0m \u001b[0mx\u001b[0m\u001b[0;34m[\u001b[0m\u001b[0;34m'name'\u001b[0m\u001b[0;34m]\u001b[0m \u001b[0;34m==\u001b[0m \u001b[0mtitle\u001b[0m\u001b[0;34m,\u001b[0m\u001b[0;34m\u001b[0m\u001b[0m\n\u001b[0;32m--> 122\u001b[0;31m                 \u001b[0mself\u001b[0m\u001b[0;34m.\u001b[0m\u001b[0mlist_spreadsheet_files\u001b[0m\u001b[0;34m(\u001b[0m\u001b[0;34m)\u001b[0m\u001b[0;34m\u001b[0m\u001b[0m\n\u001b[0m\u001b[1;32m    123\u001b[0m             )\n\u001b[1;32m    124\u001b[0m \u001b[0;34m\u001b[0m\u001b[0m\n",
      "\u001b[0;32m~/git/hobby/russia-live-fixture/venv/lib/python3.6/site-packages/gspread/client.py\u001b[0m in \u001b[0;36mlist_spreadsheet_files\u001b[0;34m(self)\u001b[0m\n\u001b[1;32m     94\u001b[0m                 \u001b[0mparams\u001b[0m\u001b[0;34m[\u001b[0m\u001b[0;34m'pageToken'\u001b[0m\u001b[0;34m]\u001b[0m \u001b[0;34m=\u001b[0m \u001b[0mpage_token\u001b[0m\u001b[0;34m\u001b[0m\u001b[0m\n\u001b[1;32m     95\u001b[0m \u001b[0;34m\u001b[0m\u001b[0m\n\u001b[0;32m---> 96\u001b[0;31m             \u001b[0mres\u001b[0m \u001b[0;34m=\u001b[0m \u001b[0mself\u001b[0m\u001b[0;34m.\u001b[0m\u001b[0mrequest\u001b[0m\u001b[0;34m(\u001b[0m\u001b[0;34m'get'\u001b[0m\u001b[0;34m,\u001b[0m \u001b[0murl\u001b[0m\u001b[0;34m,\u001b[0m \u001b[0mparams\u001b[0m\u001b[0;34m=\u001b[0m\u001b[0mparams\u001b[0m\u001b[0;34m)\u001b[0m\u001b[0;34m.\u001b[0m\u001b[0mjson\u001b[0m\u001b[0;34m(\u001b[0m\u001b[0;34m)\u001b[0m\u001b[0;34m\u001b[0m\u001b[0m\n\u001b[0m\u001b[1;32m     97\u001b[0m             \u001b[0mfiles\u001b[0m\u001b[0;34m.\u001b[0m\u001b[0mextend\u001b[0m\u001b[0;34m(\u001b[0m\u001b[0mres\u001b[0m\u001b[0;34m[\u001b[0m\u001b[0;34m'files'\u001b[0m\u001b[0;34m]\u001b[0m\u001b[0;34m)\u001b[0m\u001b[0;34m\u001b[0m\u001b[0m\n\u001b[1;32m     98\u001b[0m             \u001b[0mpage_token\u001b[0m \u001b[0;34m=\u001b[0m \u001b[0mres\u001b[0m\u001b[0;34m.\u001b[0m\u001b[0mget\u001b[0m\u001b[0;34m(\u001b[0m\u001b[0;34m'nextPageToken'\u001b[0m\u001b[0;34m,\u001b[0m \u001b[0;32mNone\u001b[0m\u001b[0;34m)\u001b[0m\u001b[0;34m\u001b[0m\u001b[0m\n",
      "\u001b[0;32m~/git/hobby/russia-live-fixture/venv/lib/python3.6/site-packages/gspread/client.py\u001b[0m in \u001b[0;36mrequest\u001b[0;34m(self, method, endpoint, params, data, json, files, headers)\u001b[0m\n\u001b[1;32m     77\u001b[0m             \u001b[0;32mreturn\u001b[0m \u001b[0mresponse\u001b[0m\u001b[0;34m\u001b[0m\u001b[0m\n\u001b[1;32m     78\u001b[0m         \u001b[0;32melse\u001b[0m\u001b[0;34m:\u001b[0m\u001b[0;34m\u001b[0m\u001b[0m\n\u001b[0;32m---> 79\u001b[0;31m             \u001b[0;32mraise\u001b[0m \u001b[0mAPIError\u001b[0m\u001b[0;34m(\u001b[0m\u001b[0mresponse\u001b[0m\u001b[0;34m)\u001b[0m\u001b[0;34m\u001b[0m\u001b[0m\n\u001b[0m\u001b[1;32m     80\u001b[0m \u001b[0;34m\u001b[0m\u001b[0m\n\u001b[1;32m     81\u001b[0m     \u001b[0;32mdef\u001b[0m \u001b[0mlist_spreadsheet_files\u001b[0m\u001b[0;34m(\u001b[0m\u001b[0mself\u001b[0m\u001b[0;34m)\u001b[0m\u001b[0;34m:\u001b[0m\u001b[0;34m\u001b[0m\u001b[0m\n",
      "\u001b[0;31mAPIError\u001b[0m: {\n \"error\": {\n  \"errors\": [\n   {\n    \"domain\": \"global\",\n    \"reason\": \"insufficientPermissions\",\n    \"message\": \"Insufficient Permission\"\n   }\n  ],\n  \"code\": 403,\n  \"message\": \"Insufficient Permission\"\n }\n}\n"
     ]
    }
   ],
   "source": [
    "from credenciales import api_user, api_pass\n",
    "import gspread\n",
    "from oauth2client.service_account import ServiceAccountCredentials\n",
    " \n",
    " \n",
    "# use creds to create a client to interact with the Google Drive API\n",
    "scope = ['https://spreadsheets.google.com/feeds']\n",
    "creds = ServiceAccountCredentials.from_json_keyfile_name('credenciales.json', scope)\n",
    "client = gspread.authorize(creds)\n",
    " \n",
    "# Find a workbook by name and open the first sheet\n",
    "# Make sure you use the right name here.\n",
    "sheet = client.open(\"Prode AA Rusia 2018\").sheet1\n",
    " \n",
    "# Extract and print all of the values\n",
    "list_of_hashes = sheet.get_all_records()\n",
    "print(list_of_hashes)"
   ]
  },
  {
   "cell_type": "code",
   "execution_count": 1,
   "metadata": {},
   "outputs": [],
   "source": [
    "from selenium import webdriver\n",
    "from time import sleep\n",
    "\n",
    "from datetime import datetime, timedelta\n",
    "from geopy import geocoders\n",
    "from tzwhere import tzwhere\n",
    "import pytz\n",
    "\n",
    "tz = tzwhere.tzwhere()\n",
    "\n",
    "tz_arg = pytz.timezone(\"America/Argentina/Buenos_Aires\")\n",
    "# tz_rus = pytz.timezone(\"Europe/Volgograd\")\n",
    "tz_rus = {\n",
    "    'Moscow': 'Europe/Moscow',\n",
    "    'Ekaterinburg': 'Asia/Yekaterinburg',\n",
    "    'St. Petersburg': 'Europe/Moscow',\n",
    "    'Sochi': 'Europe/Moscow',\n",
    "    'Kazan': 'Europe/Moscow',\n",
    "    'Saransk': 'Europe/Moscow',\n",
    "    'Kaliningrad': 'Europe/Kaliningrad',\n",
    "    'Samara': 'Europe/Samara',\n",
    "    'Rostov-On-Don': 'Europe/Moscow',\n",
    "    'Nizhny Novgorod': 'Europe/Moscow',\n",
    "    'Volgograd': 'Europe/Volgograd' }\n",
    "\n",
    "geocoder = geocoders.GoogleV3()  # Para buscar si es que me falta un timezone"
   ]
  },
  {
   "cell_type": "code",
   "execution_count": null,
   "metadata": {},
   "outputs": [],
   "source": [
    "d = webdriver.Chrome()\n",
    "sleep(2)\n",
    "d.maximize_window()"
   ]
  },
  {
   "cell_type": "code",
   "execution_count": null,
   "metadata": {},
   "outputs": [],
   "source": [
    "class Partido:\n",
    "    def __init__(self, html):\n",
    "        \n",
    "        self.link = html.get_attribute('href')\n",
    "        self.pid = int(self.link.split('/')[-2:-1][0])\n",
    "        \n",
    "        self.grupo = html.find_element_by_class_name(\"fi__info__group\").text\n",
    "        self.equipos = [x.text for x in html.find_elements_by_class_name(\"fi-t__nText \")]\n",
    "        self.ciudad = html.find_element_by_class_name(\"fi__info__venue\").text\n",
    "        \n",
    "        # Paso la ciudad a timezone\n",
    "        if not self.ciudad in tz_rus:\n",
    "            sleep(2)  # Para no saturar la API\n",
    "            place, (lat, lng) = geocoder.geocode(self.ciudad)\n",
    "            tz_rus[self.ciudad] = tz.tzNameAt(lat, lng)\n",
    "            \n",
    "        self.timezone = pytz.timezone(tz_rus[self.ciudad])\n",
    "        # print(self.ciudad, self.timezone)\n",
    "        \n",
    "        fecha_aux = html.find_element_by_class_name(\"fi-mu__info__datetime\").text\n",
    "        self.fecha_local = self.timezone.localize(datetime.strptime(fecha_aux, \"%d %b %Y - %H:%M Local time\"))\n",
    "        self.fecha = self.fecha_local.astimezone(tz_arg)\n",
    "        # print(self.fecha_local, self.fecha)\n",
    "        \n",
    "        # No dependo de que actualicen fi-s__scoreText\n",
    "        if self.fecha + timedelta(minutes=90) <= tz_arg.localize(datetime.now()):\n",
    "            self.pendiente = False\n",
    "            try:\n",
    "                self.marcador = [int(x) for x in html.find_element_by_class_name(\"fi-s__scoreText\").text.split('-')]\n",
    "            except:\n",
    "                self.marcador = [ -1, -1 ]\n",
    "        else:\n",
    "            self.pendiente = True\n",
    "            \n",
    "    def actualizarGoles(self):\n",
    "        d.get(self.link)\n",
    "        sleep(2)\n",
    "        \n",
    "        self.goles = { self.equipos[0]: [], self.equipos[1]: [] }\n",
    "        for lista in d.find_elements_by_class_name(\"fi-mh__scorers__home\"):\n",
    "            for html in lista.find_elements_by_class_name(\"fi-mh__scorer\"):\n",
    "                gol = Gol(html, self.pid)\n",
    "                self.goles[self.equipos[0]].append(gol)\n",
    "                contarGoles(gol)  # De paso lo cuento para el torneo\n",
    "        for lista in d.find_elements_by_class_name(\"fi-mh__scorers__away\"):\n",
    "            for html in lista.find_elements_by_class_name(\"fi-mh__scorer\"):\n",
    "                gol = Gol(html, self.pid)\n",
    "                self.goles[self.equipos[1]].append(gol)\n",
    "                contarGoles(gol)  # De paso lo cuento para el torneo\n",
    "    \n",
    "    def __repr__(self):\n",
    "        if self.pendiente:\n",
    "            return \"%s [%s] %s - %s\" % (self.fecha, self.grupo,\n",
    "                                          self.equipos[0], self.equipos[1])\n",
    "        else:\n",
    "            return \"%s [%s] %s %d - %s %d\" % (self.fecha, self.grupo,\n",
    "                                          self.equipos[0], self.marcador[0],\n",
    "                                          self.equipos[1], self.marcador[1])"
   ]
  },
  {
   "cell_type": "code",
   "execution_count": null,
   "metadata": {},
   "outputs": [],
   "source": [
    "class Gol:\n",
    "    def __init__(self, html, pid):\n",
    "        self.pid = pid\n",
    "        self.jid = int(html.find_element_by_tag_name('a').get_attribute('href').split('/')[-1])\n",
    "        self.jugador = html.find_element_by_class_name(\"fi-p__n\").text\n",
    "        \n",
    "        self.minuto = html.find_element_by_class_name(\"fi-mh__scorer__minute\").text\n",
    "        # self.minuto = int(self.minuto[:-1])  # Que onda 90'+1\n",
    "        \n",
    "        self.etiqueta = html.find_element_by_class_name(\"fi-mh__scorer__label\").text\n",
    "        \n",
    "    def __repr__(self):\n",
    "        if self.etiqueta:\n",
    "            return \"%s %s (%s)\" % (self.jugador, self.minuto, self.etiqueta)\n",
    "        else:\n",
    "            return \"%s %s\" % (self.jugador, self.minuto)"
   ]
  },
  {
   "cell_type": "code",
   "execution_count": null,
   "metadata": {},
   "outputs": [],
   "source": [
    "goles_torneo = {}\n",
    "def contarGoles(g):\n",
    "    if not g.jugador in goles_torneo:\n",
    "            goles_torneo[g.jugador] = []\n",
    "    goles_torneo[g.jugador].append(g)"
   ]
  },
  {
   "cell_type": "code",
   "execution_count": null,
   "metadata": {},
   "outputs": [],
   "source": [
    "d.get('https://www.fifa.com/worldcup/matches/')\n",
    "fixture = {}\n",
    "\n",
    "for link in d.find_elements_by_class_name('fi-mu__link'):\n",
    "    partido = Partido(link)\n",
    "       \n",
    "    # Compruebo que el partido esté terminado o en marcha\n",
    "    if partido.pendiente:\n",
    "        continue\n",
    "        \n",
    "    print(partido)\n",
    "    \n",
    "    \n",
    "    if not partido.grupo in fixture:\n",
    "        fixture[partido.grupo] = []\n",
    "        \n",
    "    fixture[partido.grupo].append(partido)"
   ]
  },
  {
   "cell_type": "code",
   "execution_count": null,
   "metadata": {},
   "outputs": [],
   "source": [
    "# Busco los goles\n",
    "for grupo in fixture.keys():\n",
    "    for partido in fixture[grupo]:\n",
    "        partido.actualizarGoles()\n",
    "        print(partido.goles)"
   ]
  },
  {
   "cell_type": "code",
   "execution_count": null,
   "metadata": {},
   "outputs": [],
   "source": []
  },
  {
   "cell_type": "code",
   "execution_count": null,
   "metadata": {},
   "outputs": [],
   "source": [
    "goles_torneo"
   ]
  },
  {
   "cell_type": "code",
   "execution_count": null,
   "metadata": {},
   "outputs": [],
   "source": [
    "# Terminados\n",
    "for html_partido in d.find_elements_by_class_name('result'):\n",
    "    partido = Partido(html_partido)\n",
    "    print(partido)\n",
    "    \n",
    "# Ongoing\n",
    "for html_partido in d.find_elements_by_class_name('live'):\n",
    "    partido = Partido(html_partido)\n",
    "    print(partido)"
   ]
  }
 ],
 "metadata": {
  "kernelspec": {
   "display_name": "Python 3",
   "language": "python",
   "name": "python3"
  },
  "language_info": {
   "codemirror_mode": {
    "name": "ipython",
    "version": 3
   },
   "file_extension": ".py",
   "mimetype": "text/x-python",
   "name": "python",
   "nbconvert_exporter": "python",
   "pygments_lexer": "ipython3",
   "version": "3.6.5"
  }
 },
 "nbformat": 4,
 "nbformat_minor": 2
}
